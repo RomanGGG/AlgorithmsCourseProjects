{
 "cells": [
  {
   "cell_type": "markdown",
   "metadata": {},
   "source": [
    "## Оценка стоимости инвестиционной облигации Б-1-116«USDRUB»"
   ]
  },
  {
   "cell_type": "markdown",
   "metadata": {},
   "source": [
    "### Основная информация по продукту\n",
    "Структурный продукт имеет две составляющие.<br />\n",
    "Первая - облигация на 6 месяцев с купонным доходом 0.01% и выплатой при погашении.<br />\n",
    "Вторая - барьерный пут-опцион на 6 месяцев на валютную пару USD/RUB. Условия опциона таковы: барьер составляет 95% от спот цены(USD/RUB) на момент заключения сделки, соответственно при падении курса доллара к рублю ниже уровня 95% опцион активируется. Пут-опцион покупается за счет дисконта по облигации. <br /> \n",
    "Безрзисковую норму доходности возьмем исходя из доходностей ОФЗ на полгода."
   ]
  },
  {
   "cell_type": "markdown",
   "metadata": {},
   "source": [
    "### Импортируем необходимые библиотеки"
   ]
  },
  {
   "cell_type": "code",
   "execution_count": 175,
   "metadata": {},
   "outputs": [],
   "source": [
    "import numpy as np\n",
    "import matplotlib.pyplot as plt\n",
    "import yfinance as yf\n",
    "import pandas as pd\n",
    "from scipy.stats import norm"
   ]
  },
  {
   "cell_type": "markdown",
   "metadata": {},
   "source": [
    "### Вбиваем базовые данные"
   ]
  },
  {
   "cell_type": "code",
   "execution_count": 176,
   "metadata": {},
   "outputs": [],
   "source": [
    "nominal = 1000\n",
    "coupon = 0.0001\n",
    "risk_free_rate = 0.0340\n",
    "2.71**0.0071\n",
    "a = np.exp(1)\n",
    "T = 1/2"
   ]
  },
  {
   "cell_type": "markdown",
   "metadata": {},
   "source": [
    "Рассчитаем, какая часть от номинала пойдет на покупку опциона. "
   ]
  },
  {
   "cell_type": "code",
   "execution_count": 186,
   "metadata": {},
   "outputs": [
    {
     "name": "stdout",
     "output_type": "stream",
     "text": [
      "3.3428495362493322 % - процентная составляющая номинала, идущая на покупку опциональности\n",
      "33.42849536249332 Рублей\n",
      "966.5715046375067\n"
     ]
    }
   ],
   "source": [
    "fixed_income_part = nominal/(np.exp(risk_free_rate)) #сколько средств необх положить на fixed income\n",
    "option_nominal = nominal - fixed_income_part #столько средств останется на покупку опциональности\n",
    "percentege_of_option_nominal = 100*option_nominal/nominal\n",
    "print(percentege_of_option_nominal, '% - процентная составляющая номинала, идущая на покупку опциональности')\n",
    "print(option_nominal, 'Рублей') \n",
    "print(fixed_income_part)"
   ]
  },
  {
   "cell_type": "code",
   "execution_count": 159,
   "metadata": {},
   "outputs": [
    {
     "name": "stdout",
     "output_type": "stream",
     "text": [
      "[*********************100%***********************]  1 of 1 completed\n"
     ]
    },
    {
     "data": {
      "text/html": [
       "<div>\n",
       "<style scoped>\n",
       "    .dataframe tbody tr th:only-of-type {\n",
       "        vertical-align: middle;\n",
       "    }\n",
       "\n",
       "    .dataframe tbody tr th {\n",
       "        vertical-align: top;\n",
       "    }\n",
       "\n",
       "    .dataframe thead th {\n",
       "        text-align: right;\n",
       "    }\n",
       "</style>\n",
       "<table border=\"1\" class=\"dataframe\">\n",
       "  <thead>\n",
       "    <tr style=\"text-align: right;\">\n",
       "      <th></th>\n",
       "      <th>Open</th>\n",
       "      <th>High</th>\n",
       "      <th>Low</th>\n",
       "      <th>Close</th>\n",
       "      <th>Adj Close</th>\n",
       "      <th>Volume</th>\n",
       "    </tr>\n",
       "    <tr>\n",
       "      <th>Date</th>\n",
       "      <th></th>\n",
       "      <th></th>\n",
       "      <th></th>\n",
       "      <th></th>\n",
       "      <th></th>\n",
       "      <th></th>\n",
       "    </tr>\n",
       "  </thead>\n",
       "  <tbody>\n",
       "    <tr>\n",
       "      <th>2020-10-01</th>\n",
       "      <td>77.665604</td>\n",
       "      <td>77.743301</td>\n",
       "      <td>76.984100</td>\n",
       "      <td>77.665604</td>\n",
       "      <td>77.665604</td>\n",
       "      <td>0</td>\n",
       "    </tr>\n",
       "    <tr>\n",
       "      <th>2020-10-02</th>\n",
       "      <td>77.214401</td>\n",
       "      <td>78.792000</td>\n",
       "      <td>77.198601</td>\n",
       "      <td>77.206200</td>\n",
       "      <td>77.206200</td>\n",
       "      <td>0</td>\n",
       "    </tr>\n",
       "    <tr>\n",
       "      <th>2020-10-05</th>\n",
       "      <td>78.139999</td>\n",
       "      <td>78.851997</td>\n",
       "      <td>77.838997</td>\n",
       "      <td>78.139999</td>\n",
       "      <td>78.139999</td>\n",
       "      <td>0</td>\n",
       "    </tr>\n",
       "    <tr>\n",
       "      <th>2020-10-06</th>\n",
       "      <td>78.045502</td>\n",
       "      <td>78.641998</td>\n",
       "      <td>77.634003</td>\n",
       "      <td>78.109398</td>\n",
       "      <td>78.109398</td>\n",
       "      <td>0</td>\n",
       "    </tr>\n",
       "    <tr>\n",
       "      <th>2020-10-07</th>\n",
       "      <td>78.395103</td>\n",
       "      <td>78.459999</td>\n",
       "      <td>77.930000</td>\n",
       "      <td>78.372803</td>\n",
       "      <td>78.372803</td>\n",
       "      <td>0</td>\n",
       "    </tr>\n",
       "  </tbody>\n",
       "</table>\n",
       "</div>"
      ],
      "text/plain": [
       "                 Open       High        Low      Close  Adj Close  Volume\n",
       "Date                                                                     \n",
       "2020-10-01  77.665604  77.743301  76.984100  77.665604  77.665604       0\n",
       "2020-10-02  77.214401  78.792000  77.198601  77.206200  77.206200       0\n",
       "2020-10-05  78.139999  78.851997  77.838997  78.139999  78.139999       0\n",
       "2020-10-06  78.045502  78.641998  77.634003  78.109398  78.109398       0\n",
       "2020-10-07  78.395103  78.459999  77.930000  78.372803  78.372803       0"
      ]
     },
     "execution_count": 159,
     "metadata": {},
     "output_type": "execute_result"
    }
   ],
   "source": [
    "exchange_rates = yf.download('RUB=X','2020-10-02','2021-04-02')\n",
    "exchange_rates.head()"
   ]
  },
  {
   "cell_type": "markdown",
   "metadata": {},
   "source": [
    "## Расчет historical volatility\n",
    "Скачаиваем данные о курсе USD/RUB"
   ]
  },
  {
   "cell_type": "code",
   "execution_count": 178,
   "metadata": {},
   "outputs": [
    {
     "name": "stdout",
     "output_type": "stream",
     "text": [
      "[*********************100%***********************]  1 of 1 completed\n"
     ]
    }
   ],
   "source": [
    "price = yf.download('RUB=X','2019-10-02','2020-10-02')"
   ]
  },
  {
   "cell_type": "code",
   "execution_count": 179,
   "metadata": {},
   "outputs": [],
   "source": [
    "price.head()\n",
    "price = pd.DataFrame(price)"
   ]
  },
  {
   "cell_type": "code",
   "execution_count": 180,
   "metadata": {},
   "outputs": [
    {
     "data": {
      "text/plain": [
       "Date\n",
       "2019-10-08    64.944099\n",
       "2019-10-10    65.017303\n",
       "2019-10-11    64.392700\n",
       "2019-10-14    64.239601\n",
       "2019-10-15    64.252403\n",
       "Name: Adj Close, dtype: float64"
      ]
     },
     "execution_count": 180,
     "metadata": {},
     "output_type": "execute_result"
    }
   ],
   "source": [
    "Close = price['Adj Close']\n",
    "Close.head()"
   ]
  },
  {
   "cell_type": "code",
   "execution_count": 181,
   "metadata": {},
   "outputs": [],
   "source": [
    "log_returns = np.log(Close/Close.shift(1)).dropna()\n",
    "log_returns\n",
    "\n",
    "daily_std = log_returns.std()\n",
    "\n",
    "annualized_std = daily_std * np.sqrt(252)"
   ]
  },
  {
   "cell_type": "code",
   "execution_count": 188,
   "metadata": {},
   "outputs": [
    {
     "name": "stdout",
     "output_type": "stream",
     "text": [
      "0.1768324388355417 - годовая волатильность за предыдущий период\n"
     ]
    }
   ],
   "source": [
    "volatility = annualized_std\n",
    "print(volatility, '- годовая волатильность за предыдущий период')"
   ]
  },
  {
   "cell_type": "code",
   "execution_count": 183,
   "metadata": {},
   "outputs": [],
   "source": [
    "#s - spot price\n",
    "#k - strike price(=spot в нашем случае)\n",
    "def BlackScoles(r, S, K, T, sigma, type='C'):\n",
    "    d1 = ((np.log(S/K) + (r + sigma**2/2)*T)/(sigma*np.sqrt(T)))\n",
    "    d2 = d1 - sigma*np.sqrt(T)\n",
    "    price = S*norm.cdf(d1, 0, 1) - K*np.exp(-r*T)*norm.cdf(d2, 0, 1)\n",
    "    if type == \"C\":\n",
    "        price = S*norm.cdf(d1, 0, 1) - K*np.exp(-r*T)*norm.cdf(d2, 0, 1)\n",
    "    elif type == \"P\":\n",
    "        price = K*np.exp(-r*T)*norm.cdf(-d2, 0, 1) - S*norm.cdf(-d1, 0, 1)\n",
    "    return price\n",
    "   \n"
   ]
  },
  {
   "cell_type": "markdown",
   "metadata": {},
   "source": [
    "## Для того чтобы синтезировать барьерный пут-опцион проведем следующие действия:\n",
    "#### Покупаем пут-опцион со страйковой ценой равной курсу USD/RUB на момент заключения контракта\n",
    "#### Покупаем колл-опцион со страйковой ценой равной 1/(1.05) от курса USD/RUB на момент заключения контракта\n",
    "#### Продаем колл опцион со страйковой ценой равной курсу USD/RUB на момент заключения контракта\n",
    "Все опционы на один и тот же объем. Тогда сложив графики payoff, получим необходимый барьерный пут опцион.\n"
   ]
  },
  {
   "cell_type": "code",
   "execution_count": 184,
   "metadata": {},
   "outputs": [
    {
     "name": "stdout",
     "output_type": "stream",
     "text": [
      "7.135998982993861  - стоимость опциона, %\n"
     ]
    }
   ],
   "source": [
    "spot = 100\n",
    "strike = 95\n",
    "p_call_long =  - BlackScoles(risk_free_rate, spot, strike, T, volatility, type=\"C\")\n",
    "p_call_short = BlackScoles(risk_free_rate, spot, spot, T, volatility, type=\"C\")\n",
    "p_put_long = -BlackScoles(risk_free_rate, spot, spot, T, volatility, type=\"P\")\n",
    "p_sum = p_call_long + p_call_short + p_put_long\n",
    "print(abs(p_sum), ' - стоимость опциона, %')"
   ]
  },
  {
   "cell_type": "markdown",
   "metadata": {},
   "source": [
    "### Как видно, на покупку опциональности можно потратить: "
   ]
  },
  {
   "cell_type": "code",
   "execution_count": 189,
   "metadata": {},
   "outputs": [
    {
     "data": {
      "text/plain": [
       "3.3428495362493322"
      ]
     },
     "execution_count": 189,
     "metadata": {},
     "output_type": "execute_result"
    }
   ],
   "source": [
    "percentege_of_option_nominal"
   ]
  },
  {
   "cell_type": "markdown",
   "metadata": {},
   "source": [
    "Вычислим коэффициент участия\n"
   ]
  },
  {
   "cell_type": "code",
   "execution_count": 190,
   "metadata": {},
   "outputs": [
    {
     "data": {
      "text/plain": [
       "0.4684487125370724"
      ]
     },
     "execution_count": 190,
     "metadata": {},
     "output_type": "execute_result"
    }
   ],
   "source": [
    "participation_coefficient = percentege_of_option_nominal/abs(p_sum)\n",
    "participation_coefficient"
   ]
  }
 ],
 "metadata": {
  "kernelspec": {
   "display_name": "Python 3 (ipykernel)",
   "language": "python",
   "name": "python3"
  },
  "language_info": {
   "codemirror_mode": {
    "name": "ipython",
    "version": 3
   },
   "file_extension": ".py",
   "mimetype": "text/x-python",
   "name": "python",
   "nbconvert_exporter": "python",
   "pygments_lexer": "ipython3",
   "version": "3.9.7"
  }
 },
 "nbformat": 4,
 "nbformat_minor": 2
}
